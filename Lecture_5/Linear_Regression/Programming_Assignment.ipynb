{
 "cells": [
  {
   "cell_type": "markdown",
   "metadata": {},
   "source": [
    "# Instructions:\n",
    "---\n",
    "\n",
    "1. Choose a data from https://archive.ics.uci.edu\n",
    "2. Perform regression analysis on your chosen dataset"
   ]
  },
  {
   "cell_type": "code",
   "execution_count": 1,
   "metadata": {},
   "outputs": [
    {
     "name": "stdout",
     "output_type": "stream",
     "text": [
      "Requirement already satisfied: ucimlrepo in c:\\users\\user\\anaconda3\\lib\\site-packages (0.0.6)\n",
      "Note: you may need to restart the kernel to use updated packages.\n"
     ]
    }
   ],
   "source": [
    "pip install ucimlrepo"
   ]
  },
  {
   "cell_type": "code",
   "execution_count": 2,
   "metadata": {},
   "outputs": [
    {
     "name": "stdout",
     "output_type": "stream",
     "text": [
      "{'uci_id': 863, 'name': 'Maternal Health Risk', 'repository_url': 'https://archive.ics.uci.edu/dataset/863/maternal+health+risk', 'data_url': 'https://archive.ics.uci.edu/static/public/863/data.csv', 'abstract': 'Data has been collected from different hospitals, community clinics, maternal health cares from the rural areas of Bangladesh through the IoT based risk monitoring system.', 'area': 'Health and Medicine', 'tasks': ['Classification'], 'characteristics': ['Multivariate'], 'num_instances': 1013, 'num_features': 6, 'feature_types': ['Real', 'Integer'], 'demographics': ['Age'], 'target_col': ['RiskLevel'], 'index_col': None, 'has_missing_values': 'no', 'missing_values_symbol': None, 'year_of_dataset_creation': 2020, 'last_updated': 'Fri Nov 03 2023', 'dataset_doi': '10.24432/C5DP5D', 'creators': ['Marzia Ahmed'], 'intro_paper': {'title': 'Review and Analysis of Risk Factor of Maternal Health in Remote Area Using the Internet of Things (IoT)', 'authors': 'Marzia Ahmed, M. A. Kashem, Mostafijur Rahman, S. Khatun', 'published_in': ' Lecture Notes in Electrical Engineering, vol 632', 'year': 2020, 'url': 'https://www.semanticscholar.org/paper/f175092a3b2217c9abca5bf5d91bab3c245c6b10', 'doi': None}, 'additional_info': {'summary': 'Age, Systolic Blood Pressure as SystolicBP, Diastolic BP as DiastolicBP, Blood Sugar as BS, Body Temperature as BodyTemp, HeartRate and RiskLevel. All these are the responsible and significant risk factors for maternal mortality, that is one of the main concern of SDG of UN.', 'purpose': None, 'funded_by': None, 'instances_represent': None, 'recommended_data_splits': None, 'sensitive_data': None, 'preprocessing_description': None, 'variable_info': None, 'citation': None}}\n",
      "          name     role         type demographic  \\\n",
      "0          Age  Feature      Integer         Age   \n",
      "1   SystolicBP  Feature      Integer        None   \n",
      "2  DiastolicBP  Feature      Integer        None   \n",
      "3           BS  Feature      Integer        None   \n",
      "4     BodyTemp  Feature      Integer        None   \n",
      "5    HeartRate  Feature      Integer        None   \n",
      "6    RiskLevel   Target  Categorical        None   \n",
      "\n",
      "                                         description   units missing_values  \n",
      "0    Any ages in years when a women during pregnant.    None             no  \n",
      "1  Upper value of Blood Pressure in mmHg, another...    None             no  \n",
      "2  Lower value of Blood Pressure in mmHg, another...    None             no  \n",
      "3  Blood glucose levels is in terms of a molar co...  mmol/L             no  \n",
      "4                                               None       F             no  \n",
      "5                        A normal resting heart rate     bpm             no  \n",
      "6  Predicted Risk Intensity Level during pregnanc...    None             no  \n"
     ]
    }
   ],
   "source": [
    "from ucimlrepo import fetch_ucirepo \n",
    "  \n",
    "# fetch dataset \n",
    "maternal_health_risk = fetch_ucirepo(id=863) \n",
    "  \n",
    "# data (as pandas dataframes) \n",
    "X = maternal_health_risk.data.features \n",
    "y = maternal_health_risk.data.targets \n",
    "  \n",
    "# metadata \n",
    "print(maternal_health_risk.metadata) \n",
    "  \n",
    "# variable information \n",
    "print(maternal_health_risk.variables) \n"
   ]
  },
  {
   "cell_type": "code",
   "execution_count": 3,
   "metadata": {},
   "outputs": [
    {
     "name": "stdout",
     "output_type": "stream",
     "text": [
      "{'uci_id': 863, 'name': 'Maternal Health Risk', 'repository_url': 'https://archive.ics.uci.edu/dataset/863/maternal+health+risk', 'data_url': 'https://archive.ics.uci.edu/static/public/863/data.csv', 'abstract': 'Data has been collected from different hospitals, community clinics, maternal health cares from the rural areas of Bangladesh through the IoT based risk monitoring system.', 'area': 'Health and Medicine', 'tasks': ['Classification'], 'characteristics': ['Multivariate'], 'num_instances': 1013, 'num_features': 6, 'feature_types': ['Real', 'Integer'], 'demographics': ['Age'], 'target_col': ['RiskLevel'], 'index_col': None, 'has_missing_values': 'no', 'missing_values_symbol': None, 'year_of_dataset_creation': 2020, 'last_updated': 'Fri Nov 03 2023', 'dataset_doi': '10.24432/C5DP5D', 'creators': ['Marzia Ahmed'], 'intro_paper': {'title': 'Review and Analysis of Risk Factor of Maternal Health in Remote Area Using the Internet of Things (IoT)', 'authors': 'Marzia Ahmed, M. A. Kashem, Mostafijur Rahman, S. Khatun', 'published_in': ' Lecture Notes in Electrical Engineering, vol 632', 'year': 2020, 'url': 'https://www.semanticscholar.org/paper/f175092a3b2217c9abca5bf5d91bab3c245c6b10', 'doi': None}, 'additional_info': {'summary': 'Age, Systolic Blood Pressure as SystolicBP, Diastolic BP as DiastolicBP, Blood Sugar as BS, Body Temperature as BodyTemp, HeartRate and RiskLevel. All these are the responsible and significant risk factors for maternal mortality, that is one of the main concern of SDG of UN.', 'purpose': None, 'funded_by': None, 'instances_represent': None, 'recommended_data_splits': None, 'sensitive_data': None, 'preprocessing_description': None, 'variable_info': None, 'citation': None}}\n"
     ]
    }
   ],
   "source": [
    "print(maternal_health_risk.metadata)"
   ]
  },
  {
   "cell_type": "code",
   "execution_count": 4,
   "metadata": {},
   "outputs": [
    {
     "name": "stdout",
     "output_type": "stream",
     "text": [
      "          name     role         type demographic  \\\n",
      "0          Age  Feature      Integer         Age   \n",
      "1   SystolicBP  Feature      Integer        None   \n",
      "2  DiastolicBP  Feature      Integer        None   \n",
      "3           BS  Feature      Integer        None   \n",
      "4     BodyTemp  Feature      Integer        None   \n",
      "5    HeartRate  Feature      Integer        None   \n",
      "6    RiskLevel   Target  Categorical        None   \n",
      "\n",
      "                                         description   units missing_values  \n",
      "0    Any ages in years when a women during pregnant.    None             no  \n",
      "1  Upper value of Blood Pressure in mmHg, another...    None             no  \n",
      "2  Lower value of Blood Pressure in mmHg, another...    None             no  \n",
      "3  Blood glucose levels is in terms of a molar co...  mmol/L             no  \n",
      "4                                               None       F             no  \n",
      "5                        A normal resting heart rate     bpm             no  \n",
      "6  Predicted Risk Intensity Level during pregnanc...    None             no  \n"
     ]
    }
   ],
   "source": [
    "print(maternal_health_risk.variables)"
   ]
  },
  {
   "cell_type": "code",
   "execution_count": 8,
   "metadata": {},
   "outputs": [
    {
     "name": "stdout",
     "output_type": "stream",
     "text": [
      "{'uci_id': 863, 'name': 'Maternal Health Risk', 'repository_url': 'https://archive.ics.uci.edu/dataset/863/maternal+health+risk', 'data_url': 'https://archive.ics.uci.edu/static/public/863/data.csv', 'abstract': 'Data has been collected from different hospitals, community clinics, maternal health cares from the rural areas of Bangladesh through the IoT based risk monitoring system.', 'area': 'Health and Medicine', 'tasks': ['Classification'], 'characteristics': ['Multivariate'], 'num_instances': 1013, 'num_features': 6, 'feature_types': ['Real', 'Integer'], 'demographics': ['Age'], 'target_col': ['RiskLevel'], 'index_col': None, 'has_missing_values': 'no', 'missing_values_symbol': None, 'year_of_dataset_creation': 2020, 'last_updated': 'Fri Nov 03 2023', 'dataset_doi': '10.24432/C5DP5D', 'creators': ['Marzia Ahmed'], 'intro_paper': {'title': 'Review and Analysis of Risk Factor of Maternal Health in Remote Area Using the Internet of Things (IoT)', 'authors': 'Marzia Ahmed, M. A. Kashem, Mostafijur Rahman, S. Khatun', 'published_in': ' Lecture Notes in Electrical Engineering, vol 632', 'year': 2020, 'url': 'https://www.semanticscholar.org/paper/f175092a3b2217c9abca5bf5d91bab3c245c6b10', 'doi': None}, 'additional_info': {'summary': 'Age, Systolic Blood Pressure as SystolicBP, Diastolic BP as DiastolicBP, Blood Sugar as BS, Body Temperature as BodyTemp, HeartRate and RiskLevel. All these are the responsible and significant risk factors for maternal mortality, that is one of the main concern of SDG of UN.', 'purpose': None, 'funded_by': None, 'instances_represent': None, 'recommended_data_splits': None, 'sensitive_data': None, 'preprocessing_description': None, 'variable_info': None, 'citation': None}}\n",
      "Mean Squared Error: 0.43595737518252153\n",
      "R-squared: 0.2554141464731212\n"
     ]
    }
   ],
   "source": [
    "from ucimlrepo import fetch_ucirepo\n",
    "import pandas as pd\n",
    "from sklearn.model_selection import train_test_split\n",
    "from sklearn.linear_model import LinearRegression\n",
    "from sklearn.metrics import mean_squared_error, r2_score\n",
    "from sklearn.preprocessing import StandardScaler, LabelEncoder\n",
    "\n",
    "# Fetch the dataset\n",
    "maternal_health_risk = fetch_ucirepo(id=863)\n",
    "\n",
    "# Print metadata and variable information\n",
    "print(maternal_health_risk.metadata)\n",
    "\n",
    "# Convert data to pandas dataframes\n",
    "X = pd.DataFrame(maternal_health_risk.data.features, columns=maternal_health_risk.metadata.feature_names)\n",
    "y = pd.DataFrame(maternal_health_risk.data.targets, columns=maternal_health_risk.metadata.target_names)\n",
    "\n",
    "# Encode the target variable\n",
    "label_encoder = LabelEncoder()\n",
    "y = pd.DataFrame(label_encoder.fit_transform(y.squeeze()), columns=y.columns)\n",
    "\n",
    "# Handle missing values (replace with the median for numerical features)\n",
    "X = X.fillna(X.median())\n",
    "\n",
    "# Encode categorical features (if any)\n",
    "# ... (add code to encode categorical features if present in the dataset)\n",
    "\n",
    "# Split data into training and testing sets\n",
    "X_train, X_test, y_train, y_test = train_test_split(X, y, test_size=0.2, random_state=42)\n",
    "\n",
    "# Standardize numerical features\n",
    "scaler = StandardScaler()\n",
    "X_train = scaler.fit_transform(X_train)\n",
    "X_test = scaler.transform(X_test)\n",
    "\n",
    "# Choose a regression model (e.g., Linear Regression)\n",
    "model = LinearRegression()\n",
    "\n",
    "# Train the model\n",
    "model.fit(X_train, y_train)\n",
    "\n",
    "# Make predictions on the test set\n",
    "y_pred = model.predict(X_test)\n",
    "\n",
    "# Evaluate the model's performance\n",
    "mse = mean_squared_error(y_test, y_pred)\n",
    "r2 = r2_score(y_test, y_pred)\n",
    "print(f\"Mean Squared Error: {mse}\")\n",
    "print(f\"R-squared: {r2}\")"
   ]
  }
 ],
 "metadata": {
  "kernelspec": {
   "display_name": "Python 3 (ipykernel)",
   "language": "python",
   "name": "python3"
  },
  "language_info": {
   "codemirror_mode": {
    "name": "ipython",
    "version": 3
   },
   "file_extension": ".py",
   "mimetype": "text/x-python",
   "name": "python",
   "nbconvert_exporter": "python",
   "pygments_lexer": "ipython3",
   "version": "3.11.4"
  }
 },
 "nbformat": 4,
 "nbformat_minor": 4
}
